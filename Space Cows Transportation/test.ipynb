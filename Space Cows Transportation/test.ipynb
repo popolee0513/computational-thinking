{
 "cells": [
  {
   "cell_type": "code",
   "execution_count": 1,
   "metadata": {},
   "outputs": [
    {
     "name": "stdout",
     "output_type": "stream",
     "text": [
      "{'Maggie': 3, 'Herman': 7, 'Betsy': 9, 'Oreo': 6, 'Moo Moo': 3, 'Milkshake': 2, 'Millie': 5, 'Lola': 2, 'Florence': 2, 'Henrietta': 9}\n",
      "[['Betsy'], ['Henrietta'], ['Herman', 'Maggie'], ['Oreo', 'Moo Moo'], ['Millie', 'Milkshake', 'Lola'], ['Florence']]\n",
      "[['Maggie', 'Herman'], ['Betsy'], ['Moo Moo', 'Florence', 'Millie'], ['Oreo', 'Lola', 'Milkshake'], ['Henrietta']]\n"
     ]
    }
   ],
   "source": [
    "from ps1a import load_cows,greedy_cow_transport,brute_force_cow_transport\n",
    "cows =  load_cows(\"ps1_cow_data.txt\")\n",
    "print(cows)\n",
    "answer = greedy_cow_transport(cows,limit=10)\n",
    "print(answer)\n",
    "answer = brute_force_cow_transport(cows,limit=10)\n",
    "print(answer)"
   ]
  },
  {
   "cell_type": "code",
   "execution_count": null,
   "metadata": {},
   "outputs": [],
   "source": []
  }
 ],
 "metadata": {
  "kernelspec": {
   "display_name": "Python 3",
   "language": "python",
   "name": "python3"
  },
  "language_info": {
   "codemirror_mode": {
    "name": "ipython",
    "version": 3
   },
   "file_extension": ".py",
   "mimetype": "text/x-python",
   "name": "python",
   "nbconvert_exporter": "python",
   "pygments_lexer": "ipython3",
   "version": "3.8.3"
  }
 },
 "nbformat": 4,
 "nbformat_minor": 4
}
