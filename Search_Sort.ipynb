{
 "cells": [
  {
   "cell_type": "code",
   "execution_count": 1,
   "metadata": {},
   "outputs": [
    {
     "name": "stdout",
     "output_type": "stream",
     "text": [
      "[9352  535 9173 3587 4167 9782 9735 4243 1209 3219 7113 1191 1960 4261\n",
      " 1059 8600 9390 3821 6044 4905 7887 1017 8969 4890 7042 3722 8086 7510\n",
      " 1206  140 1635  900 6048 5865 3342 9615 8357 6210 4914 1680 5818 1369\n",
      " 5948 7140  150 5140 1651   85 5433 6749]\n",
      "[  85  140  150  535  900 1017 1059 1191 1206 1209 1369 1635 1651 1680\n",
      " 1960 3219 3342 3587 3722 3821 4167 4243 4261 4890 4905 4914 5140 5433\n",
      " 5818 5865 5948 6044 6048 6210 6749 7042 7113 7140 7510 7887 8086 8357\n",
      " 8600 8969 9173 9352 9390 9615 9735 9782]\n"
     ]
    }
   ],
   "source": [
    "from numpy.random import default_rng\n",
    "rng = default_rng()\n",
    "numbers = rng.choice(10000, size=50, replace=False)\n",
    "print(numbers)\n",
    "def bubble_sort(x):\n",
    "    init_state = True\n",
    "    while init_state:\n",
    "        count = 0\n",
    "        for i in range(len(x)-1):\n",
    "            value_next = x[i+1]\n",
    "            value_cur = x[i]\n",
    "            \n",
    "            if x[i+1]>=x[i]:\n",
    "                count+=1\n",
    "            else:\n",
    "                x[i] = value_next\n",
    "                x[i+1] = value_cur\n",
    "        if count==(len(x)-1):\n",
    "            init_state =False\n",
    "        else:\n",
    "            init_state =init_state       \n",
    "    return x\n",
    "sorted_list = bubble_sort(numbers)\n",
    "print(sorted_list)"
   ]
  },
  {
   "cell_type": "code",
   "execution_count": 2,
   "metadata": {},
   "outputs": [
    {
     "name": "stdout",
     "output_type": "stream",
     "text": [
      "[8609 4840 9053 8851 9329 4223 3430 9088 2782 4708 5051 2000  749 9239\n",
      " 6721 3084 2412  261 9002 8297 1440 9932 6699 6552 1981 5680 3523 9347\n",
      " 7599 8682 7905 9365 8031  708 2159 2419 1836 6345 2487 6718 3609   82\n",
      " 4391 2120 2699 7712 8443 3432 1269 1840 6923 4306 8021 6592 6511 7869\n",
      " 2452 8152   73 4619 8914  115 3629 3464 4410 6902 1350 7176  139 7717\n",
      " 9748 9826 7943 8709 7085 7440 2859 4200 2706 4296 4243 8592 5630 3351\n",
      " 2310 4811 3181 9084  191 9680 4396 3301 4456  819  591 9608 2679 6416\n",
      " 1005 7640]\n",
      "[73, 82, 115, 139, 191, 261, 591, 708, 749, 819, 1005, 1269, 1350, 1440, 1836, 1840, 1981, 2000, 2120, 2159, 2310, 2412, 2419, 2452, 2487, 2679, 2699, 2706, 2782, 2859, 3084, 3181, 3301, 3351, 3430, 3432, 3464, 3523, 3609, 3629, 4200, 4223, 4243, 4296, 4306, 4391, 4396, 4410, 4456, 4619, 4708, 4811, 4840, 5051, 5630, 5680, 6345, 6416, 6511, 6552, 6592, 6699, 6718, 6721, 6902, 6923, 7085, 7176, 7440, 7599, 7640, 7712, 7717, 7869, 7905, 7943, 8021, 8031, 8152, 8297, 8443, 8592, 8609, 8682, 8709, 8851, 8914, 9002, 9053, 9084, 9088, 9239, 9329, 9347, 9365, 9608, 9680, 9748, 9826, 9932]\n"
     ]
    }
   ],
   "source": [
    "from numpy.random import default_rng\n",
    "rng = default_rng()\n",
    "numbers = rng.choice(10000, size=100, replace=False)\n",
    "print(numbers)\n",
    "def quick_sort(x):\n",
    "    if len(x)==1 or len(x)==0 :\n",
    "        return x\n",
    "   \n",
    "    else:\n",
    "        pivot = x[0]\n",
    "        \n",
    "        left_part = quick_sort([ele for ele in x if ele<pivot])\n",
    "        right_part = quick_sort([ele for ele in x if ele>pivot])\n",
    "       \n",
    "        return left_part+[pivot]+right_part\n",
    "sorted_list = quick_sort(numbers)\n",
    "print(sorted_list)"
   ]
  },
  {
   "cell_type": "code",
   "execution_count": 3,
   "metadata": {},
   "outputs": [
    {
     "name": "stdout",
     "output_type": "stream",
     "text": [
      "[9511 2488 1770 4497 6314 3324 3068 3414 7001 9976 3741 5299 9909 1826\n",
      " 1125 2842  478 6006 7362 6410 8242 8015  777 3969 1496 9042  193 3395\n",
      " 9200 9114 6911 5825 4124 5021 2844 9323 3905 3183 3245 6276  828 9682\n",
      " 1683 7891 1975 4191 4424 1165 5261 7427 6205 5924  234 6920 9266  669\n",
      " 4223 7480 9286 5925 3881 6603 3650 8612 3513 8882 7869 6653  789 8071\n",
      " 7612 9035 3848 5216 1026 2286  142 9714 7772 4771 1659 2053 6883 4422\n",
      " 4957 8606 7329 9448 3968 5119 5862 5756 4591 2539 6080 7289  877 7299\n",
      " 8965 2069]\n",
      "[142, 193, 234, 478, 669, 777, 789, 828, 877, 1026, 1125, 1165, 1496, 1659, 1683, 1770, 1826, 1975, 2053, 2069, 2286, 2488, 2539, 2842, 2844, 3068, 3183, 3245, 3324, 3395, 3414, 3513, 3650, 3741, 3848, 3881, 3905, 3968, 3969, 4124, 4191, 4223, 4422, 4424, 4497, 4591, 4771, 4957, 5021, 5119, 5216, 5261, 5299, 5756, 5825, 5862, 5924, 5925, 6006, 6080, 6205, 6276, 6314, 6410, 6603, 6653, 6883, 6911, 6920, 7001, 7289, 7299, 7329, 7362, 7427, 7480, 7612, 7772, 7869, 7891, 8015, 8071, 8242, 8606, 8612, 8882, 8965, 9035, 9042, 9114, 9200, 9266, 9286, 9323, 9448, 9511, 9682, 9714, 9909, 9976]\n"
     ]
    }
   ],
   "source": [
    "from numpy.random import default_rng\n",
    "rng = default_rng()\n",
    "numbers = rng.choice(10000, size=100, replace=False)\n",
    "print(numbers)\n",
    "def radix_sort(x):\n",
    "    max_number = max(x)\n",
    "    max_digit = len(list(str(max_number)))\n",
    "    \n",
    "    ans = [str(0)*(max_digit-len(str(ele)))+str(ele) for ele in list(x)]\n",
    "    count = 1\n",
    "    check = True\n",
    "    while check:\n",
    "        bucket = dict()\n",
    "        for i in range(10):\n",
    "            bucket[i]=[]\n",
    "        for ele in ans:\n",
    "            \n",
    "            digit = int(str(ele)[-count])\n",
    "            \n",
    "            bucket[digit].append(ele)\n",
    "            \n",
    "        ans = [item for sublist in list(bucket.values()) for item in sublist]\n",
    "        count+=1\n",
    "        if count>max_digit:\n",
    "            check=False\n",
    "    return [int(x) for x in ans]\n",
    "\n",
    "sorted_list = radix_sort(numbers)\n",
    "print(sorted_list)"
   ]
  },
  {
   "cell_type": "code",
   "execution_count": 4,
   "metadata": {},
   "outputs": [
    {
     "name": "stdout",
     "output_type": "stream",
     "text": [
      "[5332 8117 2220 7845 7630 4774 2939 6741 7363 5711 3024 6098 1202 1869\n",
      " 4657 2241 3270 9553 4534 3842 5266 8391 7843  876  447  748 4610 4490\n",
      " 2456 6259 8998 3103 5330 9033 3264 7927 8053 8825 4627 1357 8302  612\n",
      "  762 9027 6922 3649 5066 9407 4048 3163 6020 7178 9005  891 9113 8631\n",
      " 6480 4645 1384 6397 6963 9328 6129 8272 3732 1724 9980 5437 1561 2123\n",
      " 9904 6229 5209 2249  949 5531 5578 7688 8762 9087 2238 3935 3631 9867\n",
      " 1518 9909 6488 1223 9163 8033 9846 3206 9727 1010 1999 4399 2661 6402\n",
      " 4631 1779]\n",
      "[447, 612, 748, 762, 876, 891, 949, 1010, 1202, 1223, 1357, 1384, 1518, 1561, 1724, 1779, 1869, 1999, 2123, 2220, 2238, 2241, 2249, 2456, 2661, 2939, 3024, 3103, 3163, 3206, 3264, 3270, 3631, 3649, 3732, 3842, 3935, 4048, 4399, 4490, 4534, 4610, 4627, 4631, 4645, 4657, 4774, 5066, 5209, 5266, 5330, 5332, 5437, 5531, 5578, 5711, 6020, 6098, 6129, 6229, 6259, 6397, 6402, 6480, 6488, 6741, 6922, 6963, 7178, 7363, 7630, 7688, 7843, 7845, 7927, 8033, 8053, 8117, 8272, 8302, 8391, 8631, 8762, 8825, 8998, 9005, 9027, 9033, 9087, 9113, 9163, 9328, 9407, 9553, 9727, 9846, 9867, 9904, 9909, 9980]\n"
     ]
    }
   ],
   "source": [
    "rng = default_rng()\n",
    "numbers = rng.choice(10000, size=100, replace=False)\n",
    "print(numbers)\n",
    "def merge_two_list(x,y):\n",
    "    len_x = len(x)\n",
    "    len_y = len(y)\n",
    "    index_x = 0\n",
    "    index_y = 0\n",
    "    ans = [0]*(len_x+len_y)\n",
    "    \n",
    "    for i in range(len(ans)):\n",
    "        xi = x[index_x]\n",
    "        yi = y[index_y]\n",
    "        if xi<=yi:\n",
    "            ans[i] = xi\n",
    "            x[index_x] = 1e10\n",
    "            if index_x<(len_x-1):\n",
    "                index_x+=1\n",
    "        else:\n",
    "            ans[i] =yi\n",
    "            y[index_y] = 1e10\n",
    "            if index_y<(len_y-1):\n",
    "                index_y+=1\n",
    "            \n",
    "    return ans\n",
    "    \n",
    "def merge_sort(x):\n",
    "    if len(x)==1:\n",
    "        return x\n",
    "    else:\n",
    "        mid = len(x)//2\n",
    "        left_branch = merge_sort(x[:mid])\n",
    "        right_branch = merge_sort(x[mid:])\n",
    "        return merge_two_list(left_branch,right_branch)\n",
    "sorted_list = merge_sort(numbers)\n",
    "print(sorted_list)"
   ]
  },
  {
   "cell_type": "code",
   "execution_count": 5,
   "metadata": {},
   "outputs": [
    {
     "name": "stdout",
     "output_type": "stream",
     "text": [
      "[4508  383 8943 6447  203 3053 7421 4789 1783 1604 2657 2394 4066 2572\n",
      " 9958  474 8476 8388 3270 9339  245 8566  923 8617 2030 8118 4694  342\n",
      " 4120 1622 5352  471 7362 3519 7712 8385 4390  660 7947 2463 9731 5031\n",
      " 4994 8956 7470 8509  883 2425 7247 8420]\n",
      "[203, 245, 342, 383, 471, 474, 660, 883, 923, 1604, 1622, 1783, 2030, 2394, 2425, 2463, 2572, 2657, 3053, 3270, 3519, 4066, 4120, 4390, 4508, 4694, 4789, 4994, 5031, 5352, 6447, 7247, 7362, 7421, 7470, 7712, 7947, 8118, 8385, 8388, 8420, 8476, 8509, 8566, 8617, 8943, 8956, 9339, 9731, 9958]\n"
     ]
    }
   ],
   "source": [
    "rng = default_rng()\n",
    "numbers = rng.choice(10000, size=50, replace=False)\n",
    "print(numbers)\n",
    "def insertion_sort(x):\n",
    "    ans = []\n",
    "    for i in range(len(x)):\n",
    "        cur = x[i]\n",
    "        if ans ==[] or cur >= ans[-1]:\n",
    "            ans.append(cur)\n",
    "        else:\n",
    "            count =0\n",
    "            for k in range(len(ans)-1,-1,-1): \n",
    "                ele = ans[k]\n",
    "                count+=1\n",
    "                if cur<=ele and count!=len(ans):\n",
    "                    continue\n",
    "                else:\n",
    "                    if cur<=ele:\n",
    "                        ans.insert(k,cur)\n",
    "                    else:\n",
    "                        ans.insert(k+1,cur)\n",
    "                    break           \n",
    "    return ans\n",
    "sorted_list = insertion_sort(numbers)\n",
    "print(sorted_list)\n"
   ]
  },
  {
   "cell_type": "code",
   "execution_count": 6,
   "metadata": {},
   "outputs": [
    {
     "name": "stdout",
     "output_type": "stream",
     "text": [
      "[1336 4079 8556 3476 4806 3046 9870 9128 2187 8599 1609 8344 8037 1850\n",
      " 8343 4147 4259 6351 2366 7791 7546 9791 8863 9004 2369 4753 5127  697\n",
      " 6713 4446 7256 3239 1457 2970 5879 3666 1116 5718 7163 1625 5962 7260\n",
      " 1222  791 9492 6476 3588 4430 4943 2439]\n",
      "[ 697  791 1116 1222 1336 1457 1609 1625 1850 2187 2366 2369 2439 2970\n",
      " 3046 3239 3476 3588 3666 4079 4147 4259 4430 4446 4753 4806 4943 5127\n",
      " 5718 5879 5962 6351 6476 6713 7163 7256 7260 7546 7791 8037 8343 8344\n",
      " 8556 8599 8863 9004 9128 9492 9791 9870]\n"
     ]
    }
   ],
   "source": [
    "rng = default_rng()\n",
    "numbers = rng.choice(10000, size=50, replace=False)\n",
    "print(numbers)\n",
    "def selection_sort(x):\n",
    "    for elem in range(len(x)-1):\n",
    "        mini = 1e10\n",
    "        mini_index = -1\n",
    "        org = x[elem]\n",
    "        for i in range(len(x[elem:])):\n",
    "            index = elem+i\n",
    "            lookup = x[index]\n",
    "            if lookup<=mini:\n",
    "                mini = lookup\n",
    "                mini_index = index\n",
    "            else:\n",
    "                mini = mini\n",
    "                mini_index = mini_index\n",
    "        x[elem] = mini\n",
    "        x[mini_index] = org\n",
    "    return x\n",
    "sorted_list = selection_sort(numbers)\n",
    "print(sorted_list)"
   ]
  },
  {
   "cell_type": "code",
   "execution_count": 7,
   "metadata": {},
   "outputs": [
    {
     "name": "stdout",
     "output_type": "stream",
     "text": [
      "[6604 2762 2641 9436 3550 4589  208 8377 4342 6602 1816 1379 1297 7146\n",
      " 4745  441 6108 7723 5382 5739 6186 7486  595 9990 1152 3129 9202 6224\n",
      " 2005 3739 2573 9838 6057 6148  924 9561 5227 8581 3601 3204  583 6185\n",
      " 1683 7570 8025 9506 8783 1961 2426 5242 5505 5136 8325 6003 8462 1086\n",
      " 2476 2321 5271 4595 2042 7072 4910 1849 7160 7202 7454 2694 4245 1382\n",
      "  284 9909 1218 1117 9956 6649 8484  526 7980 5039 4625 4129 6892 2222\n",
      " 4798 1318 2886 9112 6377 4823 8652 2564 8895 6694 4972 7433 7264 4953\n",
      " 3163 9070]\n",
      "4129 81\n"
     ]
    }
   ],
   "source": [
    "import numpy  as np\n",
    "rng = default_rng()\n",
    "numbers = rng.choice(10000, size=100, replace=False)\n",
    "print(numbers)\n",
    "def linear_search(x,target):\n",
    "    for i in range(len(x)):\n",
    "        if x[i] ==target:\n",
    "            return i\n",
    "    return \"no answer\"\n",
    "answer = linear_search(numbers,np.random.choice(numbers))\n",
    "print(numbers[answer],answer)"
   ]
  },
  {
   "cell_type": "code",
   "execution_count": 8,
   "metadata": {},
   "outputs": [
    {
     "name": "stdout",
     "output_type": "stream",
     "text": [
      "yes\n",
      "no\n",
      "yes\n",
      "no\n",
      "yes\n",
      "no\n",
      "yes\n",
      "no\n"
     ]
    }
   ],
   "source": [
    "rng = default_rng()\n",
    "numbers = sorted(rng.choice(100000, size=500, replace=False))\n",
    "def binary_search(x,target):\n",
    "    mid = len(x)//2\n",
    "    if x[mid] ==target:\n",
    "        return 'yes'\n",
    "    elif len(x)==1 and x[0]!=\"target\":\n",
    "        return 'no'\n",
    "    elif x[mid]>target:\n",
    "        return binary_search(x[:mid],target)\n",
    "    else:\n",
    "        return binary_search(x[mid:],target)\n",
    "    \n",
    "    \n",
    "answer = binary_search(numbers,np.random.choice(numbers))\n",
    "print(answer)\n",
    "answer = binary_search(numbers,-55)\n",
    "print(answer)\n",
    "answer = binary_search(numbers,np.random.choice(numbers))\n",
    "print(answer)\n",
    "answer = binary_search(numbers,-100)\n",
    "print(answer)\n",
    "answer = binary_search(numbers,np.random.choice(numbers))\n",
    "print(answer)\n",
    "answer = binary_search(numbers,-55)\n",
    "print(answer)\n",
    "answer = binary_search(numbers,np.random.choice(numbers))\n",
    "print(answer)\n",
    "answer = binary_search(numbers,-1)\n",
    "print(answer)"
   ]
  },
  {
   "cell_type": "code",
   "execution_count": null,
   "metadata": {},
   "outputs": [],
   "source": []
  },
  {
   "cell_type": "code",
   "execution_count": null,
   "metadata": {},
   "outputs": [],
   "source": []
  }
 ],
 "metadata": {
  "kernelspec": {
   "display_name": "Python 3",
   "language": "python",
   "name": "python3"
  },
  "language_info": {
   "codemirror_mode": {
    "name": "ipython",
    "version": 3
   },
   "file_extension": ".py",
   "mimetype": "text/x-python",
   "name": "python",
   "nbconvert_exporter": "python",
   "pygments_lexer": "ipython3",
   "version": "3.8.3"
  }
 },
 "nbformat": 4,
 "nbformat_minor": 4
}
